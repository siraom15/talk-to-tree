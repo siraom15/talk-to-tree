{
 "cells": [
  {
   "cell_type": "code",
   "execution_count": 1,
   "id": "59e0bc8e-9c04-4f97-b868-c9239a6700e9",
   "metadata": {},
   "outputs": [
    {
     "name": "stdout",
     "output_type": "stream",
     "text": [
      "Mean Absolute Error: 1.818213276387186\n",
      "Predicted Rainfall for กรุงเทพมหานคร in month 10: 396.1169393279998 mm\n"
     ]
    },
    {
     "name": "stderr",
     "output_type": "stream",
     "text": [
      "C:\\Users\\PC\\Desktop\\sangaroon\\venv\\Lib\\site-packages\\sklearn\\base.py:493: UserWarning: X does not have valid feature names, but RandomForestRegressor was fitted with feature names\n",
      "  warnings.warn(\n"
     ]
    }
   ],
   "source": [
    "import pandas as pd\n",
    "from sklearn.model_selection import train_test_split\n",
    "from sklearn.ensemble import RandomForestRegressor\n",
    "from sklearn.preprocessing import LabelEncoder\n",
    "from sklearn.metrics import mean_absolute_error\n",
    "\n",
    "# Step 1: Load the data\n",
    "file_path = 'data/Rainfall_Data__Specific_Central_Provinces_.csv'  # Update this path\n",
    "# file_path = 'cleaned_rainfall_data.csv'  # Update this path\n",
    "data = pd.read_csv(file_path)\n",
    "\n",
    "# Step 2: Preprocess the data\n",
    "# Select relevant columns\n",
    "data = data[['Province_NameTH', 'Foreast_Month', 'Rainfall.mm.']]\n",
    "\n",
    "# Encode the Province_NameTH\n",
    "label_encoder = LabelEncoder()\n",
    "data['Province_NameTH'] = label_encoder.fit_transform(data['Province_NameTH'])\n",
    "\n",
    "# Step 3: Define features and target\n",
    "X = data[['Province_NameTH', 'Foreast_Month']]\n",
    "y = data['Rainfall.mm.']\n",
    "\n",
    "# Step 4: Split the data into training and testing sets\n",
    "X_train, X_test, y_train, y_test = train_test_split(X, y, test_size=0.2, random_state=42)\n",
    "\n",
    "# Step 5: Train a Random Forest model\n",
    "model = RandomForestRegressor(n_estimators=100, random_state=42)\n",
    "model.fit(X_train, y_train)\n",
    "\n",
    "# Step 6: Evaluate the model\n",
    "y_pred = model.predict(X_test)\n",
    "mae = mean_absolute_error(y_test, y_pred)\n",
    "print(f\"Mean Absolute Error: {mae}\")\n",
    "\n",
    "# Step 7: Make a prediction\n",
    "province = 'กรุงเทพมหานคร'\n",
    "forecast_month = 10\n",
    "\n",
    "# Encode the province input\n",
    "province_encoded = label_encoder.transform([province])[0]\n",
    "\n",
    "# Predict rainfall\n",
    "rainfall_prediction = model.predict([[province_encoded, forecast_month]])\n",
    "print(f\"Predicted Rainfall for {province} in month {forecast_month}: {rainfall_prediction[0]} mm\")\n",
    "\n",
    "# Save the model to a file after training\n",
    "import pickle\n",
    "\n",
    "# Assuming `model` is your trained RandomForestRegressor from the previous example\n",
    "with open('models/rainfall_model.pkl', 'wb') as file:\n",
    "    pickle.dump(model, file)\n",
    "\n",
    "# Save the Label Encoder for provinces\n",
    "with open('models/label_encoder.pkl', 'wb') as file:\n",
    "    pickle.dump(label_encoder, file)\n"
   ]
  },
  {
   "cell_type": "code",
   "execution_count": null,
   "id": "10f11d15-281a-40bd-90df-e46cd9c98bc3",
   "metadata": {},
   "outputs": [],
   "source": []
  }
 ],
 "metadata": {
  "kernelspec": {
   "display_name": "Python 3 (ipykernel)",
   "language": "python",
   "name": "python3"
  },
  "language_info": {
   "codemirror_mode": {
    "name": "ipython",
    "version": 3
   },
   "file_extension": ".py",
   "mimetype": "text/x-python",
   "name": "python",
   "nbconvert_exporter": "python",
   "pygments_lexer": "ipython3",
   "version": "3.12.5"
  }
 },
 "nbformat": 4,
 "nbformat_minor": 5
}
