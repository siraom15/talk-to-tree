{
 "cells": [
  {
   "cell_type": "code",
   "execution_count": 1,
   "id": "e7b8f2da-857e-4f18-b4b5-8ddb34aaf661",
   "metadata": {},
   "outputs": [
    {
     "name": "stdout",
     "output_type": "stream",
     "text": [
      "Mean Absolute Error: 0.8428370653334936\n"
     ]
    }
   ],
   "source": [
    "import pandas as pd\n",
    "from sklearn.model_selection import train_test_split\n",
    "from sklearn.ensemble import RandomForestRegressor\n",
    "from sklearn.preprocessing import LabelEncoder\n",
    "from sklearn.metrics import mean_absolute_error\n",
    "import pickle\n",
    "\n",
    "# Step 1: Load the data\n",
    "# data = pd.read_csv('cleaned_tmean_data.csv')  # Update this path with the correct CSV file path\n",
    "data = pd.read_csv('data/Tmax_Tmin_Data__Central_Region.csv')  # Update this path with the correct CSV file path\n",
    "\n",
    "# Step 2: Ensure Tmax and Tmin are numeric\n",
    "data['Tmax'] = pd.to_numeric(data['Tmax'], errors='coerce')\n",
    "data['Tmin'] = pd.to_numeric(data['Tmin'], errors='coerce')\n",
    "\n",
    "# Drop rows with missing or non-numeric values after conversion\n",
    "data = data.dropna(subset=['Tmax', 'Tmin'])\n",
    "\n",
    "# Step 3: Calculate Tmean\n",
    "data['Tmean'] = (data['Tmax'] + data['Tmin']) / 2\n",
    "\n",
    "# Step 4: Select features and target\n",
    "# Creating a copy to avoid view vs copy warning\n",
    "X = data[['ProvinceName', 'Month']].copy()\n",
    "y = data['Tmean']\n",
    "\n",
    "# Encode the ProvinceName\n",
    "label_encoder = LabelEncoder()\n",
    "X['ProvinceName'] = label_encoder.fit_transform(X['ProvinceName'])\n",
    "\n",
    "# Step 5: Split the data into training and testing sets\n",
    "X_train, X_test, y_train, y_test = train_test_split(X, y, test_size=0.2, random_state=42)\n",
    "\n",
    "# Step 6: Train a Random Forest model\n",
    "model = RandomForestRegressor(n_estimators=100, random_state=42)\n",
    "model.fit(X_train, y_train)\n",
    "\n",
    "# Step 7: Evaluate the model\n",
    "y_pred = model.predict(X_test)\n",
    "mae = mean_absolute_error(y_test, y_pred)\n",
    "print(f\"Mean Absolute Error: {mae}\")\n",
    "\n",
    "# Save the trained model and Label Encoder\n",
    "with open('models/tmean_model.pkl', 'wb') as file:\n",
    "    pickle.dump(model, file)\n",
    "\n",
    "with open('models/label_encoder_tmean.pkl', 'wb') as file:\n",
    "    pickle.dump(label_encoder, file)\n"
   ]
  },
  {
   "cell_type": "code",
   "execution_count": null,
   "id": "447e6354-2497-4388-9354-1e192f875c15",
   "metadata": {},
   "outputs": [],
   "source": []
  }
 ],
 "metadata": {
  "kernelspec": {
   "display_name": "Python 3 (ipykernel)",
   "language": "python",
   "name": "python3"
  },
  "language_info": {
   "codemirror_mode": {
    "name": "ipython",
    "version": 3
   },
   "file_extension": ".py",
   "mimetype": "text/x-python",
   "name": "python",
   "nbconvert_exporter": "python",
   "pygments_lexer": "ipython3",
   "version": "3.12.5"
  }
 },
 "nbformat": 4,
 "nbformat_minor": 5
}
