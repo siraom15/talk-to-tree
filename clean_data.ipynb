{
 "cells": [
  {
   "cell_type": "code",
   "execution_count": 3,
   "id": "3464cbea-e8d9-4d11-926f-ea0577fddc95",
   "metadata": {},
   "outputs": [
    {
     "name": "stdout",
     "output_type": "stream",
     "text": [
      "Data cleaning and standardization complete.\n"
     ]
    }
   ],
   "source": [
    "import pandas as pd\n",
    "\n",
    "# Load datasets\n",
    "rainfall_df = pd.read_csv('data/Rainfall_Data__Specific_Central_Provinces_.csv')\n",
    "tmean_df = pd.read_csv('data/Tmax_Tmin_Data__Central_Region.csv')\n",
    "\n",
    "# Extract unique province names from both datasets\n",
    "rainfall_provinces = set(rainfall_df['ProvinceName'].unique())\n",
    "tmean_provinces = set(tmean_df['ProvinceName'].unique())\n",
    "\n",
    "# Create a mapping of province names\n",
    "all_provinces = sorted(rainfall_provinces.union(tmean_provinces))\n",
    "province_mapping = {name: f\"Province_{i}\" for i, name in enumerate(all_provinces)}\n",
    "\n",
    "# Apply the mapping to both datasets\n",
    "rainfall_df['ProvinceName'] = rainfall_df['ProvinceName'].map(province_mapping)\n",
    "tmean_df['ProvinceName'] = tmean_df['ProvinceName'].map(province_mapping)\n",
    "\n",
    "# Save cleaned datasets\n",
    "rainfall_df.to_csv('cleaned_rainfall_data.csv', index=False)\n",
    "tmean_df.to_csv('cleaned_tmean_data.csv', index=False)\n",
    "\n",
    "print(\"Data cleaning and standardization complete.\")\n"
   ]
  },
  {
   "cell_type": "code",
   "execution_count": null,
   "id": "0ef9f656-92a5-4826-92c2-9b781127d699",
   "metadata": {},
   "outputs": [],
   "source": []
  }
 ],
 "metadata": {
  "kernelspec": {
   "display_name": "Python 3 (ipykernel)",
   "language": "python",
   "name": "python3"
  },
  "language_info": {
   "codemirror_mode": {
    "name": "ipython",
    "version": 3
   },
   "file_extension": ".py",
   "mimetype": "text/x-python",
   "name": "python",
   "nbconvert_exporter": "python",
   "pygments_lexer": "ipython3",
   "version": "3.12.5"
  }
 },
 "nbformat": 4,
 "nbformat_minor": 5
}
