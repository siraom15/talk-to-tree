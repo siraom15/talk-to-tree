{
 "cells": [
  {
   "cell_type": "code",
   "execution_count": 2,
   "id": "b168839a-10bc-4f3e-8913-0add0b2b7882",
   "metadata": {},
   "outputs": [
    {
     "name": "stdout",
     "output_type": "stream",
     "text": [
      "Accuracy: 0.0\n"
     ]
    }
   ],
   "source": [
    "import pandas as pd\n",
    "from sklearn.model_selection import train_test_split\n",
    "from sklearn.ensemble import RandomForestClassifier\n",
    "from sklearn.preprocessing import LabelEncoder\n",
    "from sklearn.metrics import accuracy_score\n",
    "import pickle\n",
    "\n",
    "# Load the data\n",
    "file_path = 'data/Rice.csv'  # Update this path\n",
    "data = pd.read_csv(file_path)\n",
    "\n",
    "# Drop rows with missing values in relevant columns\n",
    "data = data.dropna(subset=['tmax_tmax', 'rain_mm', 'rice_name'])\n",
    "\n",
    "# Select relevant columns and rename for clarity\n",
    "data = data[['tmax_tmax', 'rain_mm', 'rice_name']]\n",
    "\n",
    "# Encode the rice_name\n",
    "label_encoder = LabelEncoder()\n",
    "data['rice_name'] = label_encoder.fit_transform(data['rice_name'])\n",
    "\n",
    "# Define features and target\n",
    "X = data[['tmax_tmax', 'rain_mm']]\n",
    "y = data['rice_name']\n",
    "\n",
    "# Split the data into training and testing sets\n",
    "X_train, X_test, y_train, y_test = train_test_split(X, y, test_size=0.2, random_state=42)\n",
    "\n",
    "# Train a Random Forest model\n",
    "model = RandomForestClassifier(n_estimators=100, random_state=42)\n",
    "model.fit(X_train, y_train)\n",
    "\n",
    "# Evaluate the model\n",
    "y_pred = model.predict(X_test)\n",
    "accuracy = accuracy_score(y_test, y_pred)\n",
    "print(f\"Accuracy: {accuracy}\")\n",
    "\n",
    "# Save the model and label encoder\n",
    "with open('models/rice_model.pkl', 'wb') as file:\n",
    "    pickle.dump(model, file)\n",
    "\n",
    "with open('models/rice_label_encoder.pkl', 'wb') as file:\n",
    "    pickle.dump(label_encoder, file)\n"
   ]
  },
  {
   "cell_type": "code",
   "execution_count": null,
   "id": "c1916b26-64b0-4dde-ad07-f5e68b371ec1",
   "metadata": {},
   "outputs": [],
   "source": []
  }
 ],
 "metadata": {
  "kernelspec": {
   "display_name": "Python 3 (ipykernel)",
   "language": "python",
   "name": "python3"
  },
  "language_info": {
   "codemirror_mode": {
    "name": "ipython",
    "version": 3
   },
   "file_extension": ".py",
   "mimetype": "text/x-python",
   "name": "python",
   "nbconvert_exporter": "python",
   "pygments_lexer": "ipython3",
   "version": "3.12.5"
  }
 },
 "nbformat": 4,
 "nbformat_minor": 5
}
